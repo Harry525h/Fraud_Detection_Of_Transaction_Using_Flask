{
  "cells": [
    {
      "cell_type": "code",
      "execution_count": 24,
      "metadata": {
        "colab": {
          "base_uri": "https://localhost:8080/"
        },
        "id": "bxWgr9kUtpcR",
        "outputId": "96d59ed3-a968-4315-bca5-bbd03c4e4097"
      },
      "outputs": [
        {
          "name": "stdout",
          "output_type": "stream",
          "text": [
            "Requirement already satisfied: imbalanced-learn in c:\\users\\rcc\\appdata\\local\\programs\\python\\python310\\lib\\site-packages (0.13.0)\n",
            "Requirement already satisfied: scikit-learn in c:\\users\\rcc\\appdata\\local\\programs\\python\\python310\\lib\\site-packages (1.6.1)\n",
            "Requirement already satisfied: pandas in c:\\users\\rcc\\appdata\\local\\programs\\python\\python310\\lib\\site-packages (2.3.1)\n",
            "Requirement already satisfied: numpy in c:\\users\\rcc\\appdata\\local\\programs\\python\\python310\\lib\\site-packages (2.1.3)\n",
            "Requirement already satisfied: seaborn in c:\\users\\rcc\\appdata\\local\\programs\\python\\python310\\lib\\site-packages (0.13.2)\n",
            "Requirement already satisfied: matplotlib in c:\\users\\rcc\\appdata\\local\\programs\\python\\python310\\lib\\site-packages (3.10.3)\n",
            "Requirement already satisfied: joblib in c:\\users\\rcc\\appdata\\local\\programs\\python\\python310\\lib\\site-packages (1.5.1)\n",
            "Requirement already satisfied: scipy<2,>=1.10.1 in c:\\users\\rcc\\appdata\\local\\programs\\python\\python310\\lib\\site-packages (from imbalanced-learn) (1.15.3)\n",
            "Requirement already satisfied: sklearn-compat<1,>=0.1 in c:\\users\\rcc\\appdata\\local\\programs\\python\\python310\\lib\\site-packages (from imbalanced-learn) (0.1.3)\n",
            "Requirement already satisfied: threadpoolctl<4,>=2.0.0 in c:\\users\\rcc\\appdata\\local\\programs\\python\\python310\\lib\\site-packages (from imbalanced-learn) (3.6.0)\n",
            "Requirement already satisfied: python-dateutil>=2.8.2 in c:\\users\\rcc\\appdata\\roaming\\python\\python310\\site-packages (from pandas) (2.9.0.post0)\n",
            "Requirement already satisfied: pytz>=2020.1 in c:\\users\\rcc\\appdata\\local\\programs\\python\\python310\\lib\\site-packages (from pandas) (2025.2)\n",
            "Requirement already satisfied: tzdata>=2022.7 in c:\\users\\rcc\\appdata\\local\\programs\\python\\python310\\lib\\site-packages (from pandas) (2025.2)\n",
            "Requirement already satisfied: contourpy>=1.0.1 in c:\\users\\rcc\\appdata\\local\\programs\\python\\python310\\lib\\site-packages (from matplotlib) (1.3.2)\n",
            "Requirement already satisfied: cycler>=0.10 in c:\\users\\rcc\\appdata\\local\\programs\\python\\python310\\lib\\site-packages (from matplotlib) (0.12.1)\n",
            "Requirement already satisfied: fonttools>=4.22.0 in c:\\users\\rcc\\appdata\\local\\programs\\python\\python310\\lib\\site-packages (from matplotlib) (4.58.5)\n",
            "Requirement already satisfied: kiwisolver>=1.3.1 in c:\\users\\rcc\\appdata\\local\\programs\\python\\python310\\lib\\site-packages (from matplotlib) (1.4.8)\n",
            "Requirement already satisfied: packaging>=20.0 in c:\\users\\rcc\\appdata\\roaming\\python\\python310\\site-packages (from matplotlib) (25.0)\n",
            "Requirement already satisfied: pillow>=8 in c:\\users\\rcc\\appdata\\local\\programs\\python\\python310\\lib\\site-packages (from matplotlib) (11.3.0)\n",
            "Requirement already satisfied: pyparsing>=2.3.1 in c:\\users\\rcc\\appdata\\local\\programs\\python\\python310\\lib\\site-packages (from matplotlib) (3.2.3)\n",
            "Requirement already satisfied: six>=1.5 in c:\\users\\rcc\\appdata\\roaming\\python\\python310\\site-packages (from python-dateutil>=2.8.2->pandas) (1.17.0)\n"
          ]
        }
      ],
      "source": [
        "!pip install imbalanced-learn scikit-learn pandas numpy seaborn matplotlib joblib"
      ]
    },
    {
      "cell_type": "code",
      "execution_count": 25,
      "metadata": {
        "id": "kHowwKH1mf-o"
      },
      "outputs": [],
      "source": [
        "import numpy as np\n",
        "import pandas as pd\n",
        "from sklearn.preprocessing import LabelEncoder, StandardScaler\n",
        "from imblearn.over_sampling import SMOTE\n",
        "from sklearn.model_selection import train_test_split, cross_val_score, StratifiedKFold\n",
        "from sklearn.ensemble import RandomForestClassifier\n",
        "from sklearn.metrics import classification_report, confusion_matrix, roc_auc_score, RocCurveDisplay\n",
        "import matplotlib.pyplot as plt\n",
        "import seaborn as sns\n",
        "import joblib\n",
        "import warnings\n",
        "warnings.filterwarnings('ignore')"
      ]
    },
    {
      "cell_type": "code",
      "execution_count": 26,
      "metadata": {
        "colab": {
          "base_uri": "https://localhost:8080/"
        },
        "id": "SdDYjeEDm0dS",
        "outputId": "7e8bbd83-ae4a-4163-a667-96f097e41038"
      },
      "outputs": [
        {
          "name": "stdout",
          "output_type": "stream",
          "text": [
            "📊 Dataset Overview:\n",
            "\n",
            "Shape: (200000, 24)\n",
            "\n",
            "Columns: ['Customer_ID', 'Customer_Name', 'Gender', 'Age', 'State', 'City', 'Bank_Branch', 'Account_Type', 'Transaction_ID', 'Transaction_Date', 'Transaction_Time', 'Transaction_Amount', 'Merchant_ID', 'Transaction_Type', 'Merchant_Category', 'Account_Balance', 'Transaction_Device', 'Transaction_Location', 'Device_Type', 'Is_Fraud', 'Transaction_Currency', 'Customer_Contact', 'Transaction_Description', 'Customer_Email']\n",
            "\n",
            "Sample Data:\n",
            "                            Customer_ID        Customer_Name  Gender  Age  \\\n",
            "0  d5f6ec07-d69e-4f47-b9b4-7c58ff17c19e           Osha Tella    Male   60   \n",
            "1  7c14ad51-781a-4db9-b7bd-67439c175262      Hredhaan Khosla  Female   51   \n",
            "2  3a73a0e5-d4da-45aa-85f3-528413900a35       Ekani Nazareth    Male   20   \n",
            "3  7902f4ef-9050-4a79-857d-9c2ea3181940  Yamini Ramachandran  Female   57   \n",
            "4  3a4bba70-d9a9-4c5f-8b92-1735fd8c19e9         Kritika Rege  Female   43   \n",
            "\n",
            "         State                City                Bank_Branch Account_Type  \\\n",
            "0       Kerala  Thiruvananthapuram  Thiruvananthapuram Branch      Savings   \n",
            "1  Maharashtra              Nashik              Nashik Branch     Business   \n",
            "2        Bihar           Bhagalpur           Bhagalpur Branch      Savings   \n",
            "3   Tamil Nadu             Chennai             Chennai Branch     Business   \n",
            "4       Punjab            Amritsar            Amritsar Branch      Savings   \n",
            "\n",
            "                         Transaction_ID Transaction_Date  ...  \\\n",
            "0  4fa3208f-9e23-42dc-b330-844829d0c12c       23-01-2025  ...   \n",
            "1  c9de0c06-2c4c-40a9-97ed-3c7b8f97c79c       11-01-2025  ...   \n",
            "2  e41c55f9-c016-4ff3-872b-cae72467c75c       25-01-2025  ...   \n",
            "3  7f7ee11b-ff2c-45a3-802a-49bc47c02ecb       19-01-2025  ...   \n",
            "4  f8e6ac6f-81a1-4985-bf12-f60967d852ef       30-01-2025  ...   \n",
            "\n",
            "  Merchant_Category  Account_Balance Transaction_Device  \\\n",
            "0        Restaurant         74557.27    Voice Assistant   \n",
            "1        Restaurant         74622.66  POS Mobile Device   \n",
            "2         Groceries         66817.99                ATM   \n",
            "3     Entertainment         58177.08     POS Mobile App   \n",
            "4     Entertainment         16108.56       Virtual Card   \n",
            "\n",
            "         Transaction_Location Device_Type  Is_Fraud Transaction_Currency  \\\n",
            "0  Thiruvananthapuram, Kerala         POS         0                  INR   \n",
            "1         Nashik, Maharashtra     Desktop         0                  INR   \n",
            "2            Bhagalpur, Bihar     Desktop         0                  INR   \n",
            "3         Chennai, Tamil Nadu      Mobile         0                  INR   \n",
            "4            Amritsar, Punjab      Mobile         0                  INR   \n",
            "\n",
            "  Customer_Contact Transaction_Description           Customer_Email  \n",
            "0   +9198579XXXXXX     Bitcoin transaction      oshaXXXXX@XXXXX.com  \n",
            "1   +9191074XXXXXX        Grocery delivery  hredhaanXXXX@XXXXXX.com  \n",
            "2   +9197745XXXXXX  Mutual fund investment      ekaniXXX@XXXXXX.com  \n",
            "3   +9195889XXXXXX           Food delivery  yaminiXXXXX@XXXXXXX.com  \n",
            "4   +9195316XXXXXX          Debt repayment   kritikaXXXX@XXXXXX.com  \n",
            "\n",
            "[5 rows x 24 columns]\n",
            "\n",
            "Data Types:\n",
            "Customer_ID                 object\n",
            "Customer_Name               object\n",
            "Gender                      object\n",
            "Age                          int64\n",
            "State                       object\n",
            "City                        object\n",
            "Bank_Branch                 object\n",
            "Account_Type                object\n",
            "Transaction_ID              object\n",
            "Transaction_Date            object\n",
            "Transaction_Time            object\n",
            "Transaction_Amount         float64\n",
            "Merchant_ID                 object\n",
            "Transaction_Type            object\n",
            "Merchant_Category           object\n",
            "Account_Balance            float64\n",
            "Transaction_Device          object\n",
            "Transaction_Location        object\n",
            "Device_Type                 object\n",
            "Is_Fraud                     int64\n",
            "Transaction_Currency        object\n",
            "Customer_Contact            object\n",
            "Transaction_Description     object\n",
            "Customer_Email              object\n",
            "dtype: object\n",
            "\n",
            "Class Distribution (Fraud vs Non-Fraud):\n",
            "Is_Fraud\n",
            "0    94.96%\n",
            "1     5.04%\n",
            "Name: proportion, dtype: object\n"
          ]
        }
      ],
      "source": [
        "# Load and display the dataset\n",
        "df = pd.read_csv('Bank_Transaction_Fraud_Detection.csv')\n",
        "\n",
        "# Display basic information about the dataset\n",
        "print(\"📊 Dataset Overview:\")\n",
        "print(\"\\nShape:\", df.shape)\n",
        "print(\"\\nColumns:\", df.columns.tolist())\n",
        "print(\"\\nSample Data:\")\n",
        "print(df.head())\n",
        "print(\"\\nData Types:\")\n",
        "print(df.dtypes) \n",
        "print(\"\\nClass Distribution (Fraud vs Non-Fraud):\")\n",
        "print(df['Is_Fraud'].value_counts(normalize=True).mul(100).round(2).astype(str) + '%')"
      ]
    },
    {
      "cell_type": "markdown",
      "metadata": {},
      "source": [
        "# Banking Transaction Fraud Analysis\n",
        "\n",
        "Let's analyze key patterns in the banking transaction data:\n",
        "1. Fraud distribution across different transaction types\n",
        "2. Time patterns in fraudulent transactions\n",
        "3. Amount patterns in fraud cases\n",
        "4. Geographic distribution of fraud\n",
        "5. Device and channel analysis"
      ]
    },
    {
      "cell_type": "markdown",
      "metadata": {},
      "source": [
        "# Data Quality Analysis\n",
        "\n",
        "Let's analyze the data quality to ensure our model is built on reliable data:\n",
        "1. Check for missing values\n",
        "2. Check for duplicates\n",
        "3. Analyze value distributions\n",
        "4. Identify outliers in transaction amounts"
      ]
    },
    {
      "cell_type": "code",
      "execution_count": 27,
      "metadata": {},
      "outputs": [
        {
          "name": "stdout",
          "output_type": "stream",
          "text": [
            "📊 Missing Values Analysis:\n",
            "✅ No missing values found\n",
            "\n",
            "🔍 Duplicate Records: 0\n",
            "\n",
            "📈 Transaction Amount Distribution:\n",
            "count    200000.000000\n",
            "mean      49538.015554\n",
            "std       28551.874004\n",
            "min          10.290000\n",
            "25%       24851.345000\n",
            "50%       49502.440000\n",
            "75%       74314.625000\n",
            "max       98999.980000\n",
            "Name: Transaction_Amount, dtype: float64\n",
            "\n",
            "⚠️ Number of transaction amount outliers: 0\n",
            "\n",
            "🔍 Fraud Distribution by Key Features:\n",
            "\n",
            "Fraud % by Transaction Type:\n",
            "Transaction_Type\n",
            "Transfer        5.19\n",
            "Credit          5.10\n",
            "Debit           5.08\n",
            "Bill Payment    4.93\n",
            "Withdrawal      4.93\n",
            "Name: Is_Fraud, dtype: float64\n"
          ]
        }
      ],
      "source": [
        "# Data Quality Checks\n",
        "\n",
        "# 1. Missing Values Analysis\n",
        "print(\"📊 Missing Values Analysis:\")\n",
        "missing_values = df.isnull().sum()\n",
        "if missing_values.any():\n",
        "    print(\"\\nMissing values found:\")\n",
        "    print(missing_values[missing_values > 0])\n",
        "else:\n",
        "    print(\"✅ No missing values found\")\n",
        "\n",
        "# 2. Duplicate Check\n",
        "duplicates = df.duplicated().sum()\n",
        "print(f\"\\n🔍 Duplicate Records: {duplicates}\")\n",
        "\n",
        "# 3. Value Distributions\n",
        "print(\"\\n📈 Transaction Amount Distribution:\")\n",
        "print(df['Transaction_Amount'].describe())\n",
        "\n",
        "# 4. Outlier Analysis for Transaction Amount\n",
        "Q1 = df['Transaction_Amount'].quantile(0.25)\n",
        "Q3 = df['Transaction_Amount'].quantile(0.75)\n",
        "IQR = Q3 - Q1\n",
        "lower_bound = Q1 - 1.5 * IQR\n",
        "upper_bound = Q3 + 1.5 * IQR\n",
        "\n",
        "outliers = df[(df['Transaction_Amount'] < lower_bound) | (df['Transaction_Amount'] > upper_bound)]\n",
        "print(f\"\\n⚠️ Number of transaction amount outliers: {len(outliers)}\")\n",
        "\n",
        "# 5. Fraud Distribution by Key Features\n",
        "print(\"\\n🔍 Fraud Distribution by Key Features:\")\n",
        "\n",
        "# By Transaction Type\n",
        "print(\"\\nFraud % by Transaction Type:\")\n",
        "fraud_by_type = df.groupby('Transaction_Type')['Is_Fraud'].mean().mul(100).round(2)\n",
        "print(fraud_by_type.sort_values(ascending=False))"
      ]
    },
    {
      "cell_type": "code",
      "execution_count": 28,
      "metadata": {
        "colab": {
          "base_uri": "https://localhost:8080/"
        },
        "id": "YY1q90r-niPx",
        "outputId": "0aa2b5bc-5289-4d60-8703-5205ba2dac20"
      },
      "outputs": [
        {
          "data": {
            "text/plain": [
              "(200000, 24)"
            ]
          },
          "execution_count": 28,
          "metadata": {},
          "output_type": "execute_result"
        }
      ],
      "source": [
        "df.shape"
      ]
    },
    {
      "cell_type": "code",
      "execution_count": 67,
      "metadata": {
        "colab": {
          "base_uri": "https://localhost:8080/",
          "height": 1000
        },
        "id": "-oDexO9gnkun",
        "outputId": "5d348940-174d-4f59-8a21-1e0e178a71d8"
      },
      "outputs": [
        {
          "data": {
            "text/html": [
              "<div>\n",
              "<style scoped>\n",
              "    .dataframe tbody tr th:only-of-type {\n",
              "        vertical-align: middle;\n",
              "    }\n",
              "\n",
              "    .dataframe tbody tr th {\n",
              "        vertical-align: top;\n",
              "    }\n",
              "\n",
              "    .dataframe thead th {\n",
              "        text-align: right;\n",
              "    }\n",
              "</style>\n",
              "<table border=\"1\" class=\"dataframe\">\n",
              "  <thead>\n",
              "    <tr style=\"text-align: right;\">\n",
              "      <th></th>\n",
              "      <th>Gender</th>\n",
              "      <th>Age</th>\n",
              "      <th>State</th>\n",
              "      <th>City</th>\n",
              "      <th>Bank_Branch</th>\n",
              "      <th>Account_Type</th>\n",
              "      <th>Transaction_Date</th>\n",
              "      <th>Transaction_Time</th>\n",
              "      <th>Transaction_Amount</th>\n",
              "      <th>Transaction_Type</th>\n",
              "      <th>Account_Balance</th>\n",
              "      <th>Transaction_Device</th>\n",
              "      <th>Is_Fraud</th>\n",
              "      <th>Transaction_Currency</th>\n",
              "    </tr>\n",
              "  </thead>\n",
              "  <tbody>\n",
              "    <tr>\n",
              "      <th>0</th>\n",
              "      <td>1</td>\n",
              "      <td>60</td>\n",
              "      <td>15</td>\n",
              "      <td>127</td>\n",
              "      <td>127</td>\n",
              "      <td>2</td>\n",
              "      <td>22</td>\n",
              "      <td>52151</td>\n",
              "      <td>32415.45</td>\n",
              "      <td>3</td>\n",
              "      <td>74557.27</td>\n",
              "      <td>17</td>\n",
              "      <td>0</td>\n",
              "      <td>0</td>\n",
              "    </tr>\n",
              "    <tr>\n",
              "      <th>1</th>\n",
              "      <td>0</td>\n",
              "      <td>51</td>\n",
              "      <td>18</td>\n",
              "      <td>100</td>\n",
              "      <td>100</td>\n",
              "      <td>0</td>\n",
              "      <td>10</td>\n",
              "      <td>55958</td>\n",
              "      <td>43622.60</td>\n",
              "      <td>0</td>\n",
              "      <td>74622.66</td>\n",
              "      <td>9</td>\n",
              "      <td>0</td>\n",
              "      <td>0</td>\n",
              "    </tr>\n",
              "    <tr>\n",
              "      <th>2</th>\n",
              "      <td>1</td>\n",
              "      <td>20</td>\n",
              "      <td>4</td>\n",
              "      <td>13</td>\n",
              "      <td>13</td>\n",
              "      <td>2</td>\n",
              "      <td>24</td>\n",
              "      <td>10257</td>\n",
              "      <td>63062.56</td>\n",
              "      <td>0</td>\n",
              "      <td>66817.99</td>\n",
              "      <td>0</td>\n",
              "      <td>0</td>\n",
              "      <td>0</td>\n",
              "    </tr>\n",
              "    <tr>\n",
              "      <th>3</th>\n",
              "      <td>0</td>\n",
              "      <td>57</td>\n",
              "      <td>28</td>\n",
              "      <td>22</td>\n",
              "      <td>22</td>\n",
              "      <td>0</td>\n",
              "      <td>18</td>\n",
              "      <td>40370</td>\n",
              "      <td>14000.72</td>\n",
              "      <td>2</td>\n",
              "      <td>58177.08</td>\n",
              "      <td>8</td>\n",
              "      <td>0</td>\n",
              "      <td>0</td>\n",
              "    </tr>\n",
              "    <tr>\n",
              "      <th>4</th>\n",
              "      <td>0</td>\n",
              "      <td>43</td>\n",
              "      <td>25</td>\n",
              "      <td>7</td>\n",
              "      <td>7</td>\n",
              "      <td>2</td>\n",
              "      <td>29</td>\n",
              "      <td>60052</td>\n",
              "      <td>18335.16</td>\n",
              "      <td>3</td>\n",
              "      <td>16108.56</td>\n",
              "      <td>16</td>\n",
              "      <td>0</td>\n",
              "      <td>0</td>\n",
              "    </tr>\n",
              "    <tr>\n",
              "      <th>5</th>\n",
              "      <td>1</td>\n",
              "      <td>54</td>\n",
              "      <td>10</td>\n",
              "      <td>2</td>\n",
              "      <td>2</td>\n",
              "      <td>1</td>\n",
              "      <td>24</td>\n",
              "      <td>22178</td>\n",
              "      <td>9711.15</td>\n",
              "      <td>3</td>\n",
              "      <td>61258.85</td>\n",
              "      <td>7</td>\n",
              "      <td>0</td>\n",
              "      <td>0</td>\n",
              "    </tr>\n",
              "    <tr>\n",
              "      <th>6</th>\n",
              "      <td>0</td>\n",
              "      <td>61</td>\n",
              "      <td>8</td>\n",
              "      <td>102</td>\n",
              "      <td>102</td>\n",
              "      <td>0</td>\n",
              "      <td>3</td>\n",
              "      <td>2909</td>\n",
              "      <td>94677.01</td>\n",
              "      <td>3</td>\n",
              "      <td>36313.61</td>\n",
              "      <td>11</td>\n",
              "      <td>0</td>\n",
              "      <td>0</td>\n",
              "    </tr>\n",
              "    <tr>\n",
              "      <th>7</th>\n",
              "      <td>1</td>\n",
              "      <td>32</td>\n",
              "      <td>0</td>\n",
              "      <td>109</td>\n",
              "      <td>109</td>\n",
              "      <td>0</td>\n",
              "      <td>15</td>\n",
              "      <td>13217</td>\n",
              "      <td>67704.28</td>\n",
              "      <td>2</td>\n",
              "      <td>16948.73</td>\n",
              "      <td>5</td>\n",
              "      <td>0</td>\n",
              "      <td>0</td>\n",
              "    </tr>\n",
              "    <tr>\n",
              "      <th>8</th>\n",
              "      <td>1</td>\n",
              "      <td>52</td>\n",
              "      <td>17</td>\n",
              "      <td>15</td>\n",
              "      <td>15</td>\n",
              "      <td>0</td>\n",
              "      <td>24</td>\n",
              "      <td>35134</td>\n",
              "      <td>72953.45</td>\n",
              "      <td>4</td>\n",
              "      <td>18138.71</td>\n",
              "      <td>0</td>\n",
              "      <td>0</td>\n",
              "      <td>0</td>\n",
              "    </tr>\n",
              "    <tr>\n",
              "      <th>9</th>\n",
              "      <td>0</td>\n",
              "      <td>32</td>\n",
              "      <td>6</td>\n",
              "      <td>55</td>\n",
              "      <td>55</td>\n",
              "      <td>0</td>\n",
              "      <td>1</td>\n",
              "      <td>14994</td>\n",
              "      <td>5689.02</td>\n",
              "      <td>1</td>\n",
              "      <td>65801.35</td>\n",
              "      <td>2</td>\n",
              "      <td>0</td>\n",
              "      <td>0</td>\n",
              "    </tr>\n",
              "    <tr>\n",
              "      <th>10</th>\n",
              "      <td>1</td>\n",
              "      <td>18</td>\n",
              "      <td>10</td>\n",
              "      <td>135</td>\n",
              "      <td>135</td>\n",
              "      <td>2</td>\n",
              "      <td>24</td>\n",
              "      <td>28796</td>\n",
              "      <td>45491.61</td>\n",
              "      <td>1</td>\n",
              "      <td>25427.07</td>\n",
              "      <td>6</td>\n",
              "      <td>0</td>\n",
              "      <td>0</td>\n",
              "    </tr>\n",
              "    <tr>\n",
              "      <th>11</th>\n",
              "      <td>1</td>\n",
              "      <td>59</td>\n",
              "      <td>25</td>\n",
              "      <td>21</td>\n",
              "      <td>21</td>\n",
              "      <td>0</td>\n",
              "      <td>13</td>\n",
              "      <td>63979</td>\n",
              "      <td>34680.87</td>\n",
              "      <td>1</td>\n",
              "      <td>38070.74</td>\n",
              "      <td>2</td>\n",
              "      <td>0</td>\n",
              "      <td>0</td>\n",
              "    </tr>\n",
              "    <tr>\n",
              "      <th>12</th>\n",
              "      <td>1</td>\n",
              "      <td>66</td>\n",
              "      <td>21</td>\n",
              "      <td>20</td>\n",
              "      <td>20</td>\n",
              "      <td>2</td>\n",
              "      <td>26</td>\n",
              "      <td>71466</td>\n",
              "      <td>46843.65</td>\n",
              "      <td>0</td>\n",
              "      <td>38362.08</td>\n",
              "      <td>6</td>\n",
              "      <td>0</td>\n",
              "      <td>0</td>\n",
              "    </tr>\n",
              "    <tr>\n",
              "      <th>13</th>\n",
              "      <td>0</td>\n",
              "      <td>47</td>\n",
              "      <td>6</td>\n",
              "      <td>74</td>\n",
              "      <td>74</td>\n",
              "      <td>2</td>\n",
              "      <td>28</td>\n",
              "      <td>39439</td>\n",
              "      <td>39976.03</td>\n",
              "      <td>3</td>\n",
              "      <td>49403.41</td>\n",
              "      <td>13</td>\n",
              "      <td>0</td>\n",
              "      <td>0</td>\n",
              "    </tr>\n",
              "    <tr>\n",
              "      <th>14</th>\n",
              "      <td>1</td>\n",
              "      <td>37</td>\n",
              "      <td>33</td>\n",
              "      <td>73</td>\n",
              "      <td>73</td>\n",
              "      <td>2</td>\n",
              "      <td>8</td>\n",
              "      <td>47361</td>\n",
              "      <td>10258.06</td>\n",
              "      <td>3</td>\n",
              "      <td>73121.31</td>\n",
              "      <td>11</td>\n",
              "      <td>0</td>\n",
              "      <td>0</td>\n",
              "    </tr>\n",
              "    <tr>\n",
              "      <th>15</th>\n",
              "      <td>0</td>\n",
              "      <td>53</td>\n",
              "      <td>4</td>\n",
              "      <td>39</td>\n",
              "      <td>39</td>\n",
              "      <td>0</td>\n",
              "      <td>21</td>\n",
              "      <td>31938</td>\n",
              "      <td>92969.97</td>\n",
              "      <td>4</td>\n",
              "      <td>80388.02</td>\n",
              "      <td>1</td>\n",
              "      <td>0</td>\n",
              "      <td>0</td>\n",
              "    </tr>\n",
              "    <tr>\n",
              "      <th>16</th>\n",
              "      <td>0</td>\n",
              "      <td>38</td>\n",
              "      <td>27</td>\n",
              "      <td>60</td>\n",
              "      <td>60</td>\n",
              "      <td>1</td>\n",
              "      <td>7</td>\n",
              "      <td>44923</td>\n",
              "      <td>47.39</td>\n",
              "      <td>4</td>\n",
              "      <td>52977.93</td>\n",
              "      <td>0</td>\n",
              "      <td>0</td>\n",
              "      <td>0</td>\n",
              "    </tr>\n",
              "    <tr>\n",
              "      <th>17</th>\n",
              "      <td>1</td>\n",
              "      <td>56</td>\n",
              "      <td>7</td>\n",
              "      <td>123</td>\n",
              "      <td>123</td>\n",
              "      <td>0</td>\n",
              "      <td>23</td>\n",
              "      <td>41157</td>\n",
              "      <td>85269.30</td>\n",
              "      <td>2</td>\n",
              "      <td>74322.85</td>\n",
              "      <td>4</td>\n",
              "      <td>1</td>\n",
              "      <td>0</td>\n",
              "    </tr>\n",
              "    <tr>\n",
              "      <th>18</th>\n",
              "      <td>0</td>\n",
              "      <td>38</td>\n",
              "      <td>17</td>\n",
              "      <td>15</td>\n",
              "      <td>15</td>\n",
              "      <td>2</td>\n",
              "      <td>1</td>\n",
              "      <td>41216</td>\n",
              "      <td>89594.61</td>\n",
              "      <td>0</td>\n",
              "      <td>61702.79</td>\n",
              "      <td>9</td>\n",
              "      <td>0</td>\n",
              "      <td>0</td>\n",
              "    </tr>\n",
              "    <tr>\n",
              "      <th>19</th>\n",
              "      <td>0</td>\n",
              "      <td>38</td>\n",
              "      <td>31</td>\n",
              "      <td>65</td>\n",
              "      <td>65</td>\n",
              "      <td>0</td>\n",
              "      <td>12</td>\n",
              "      <td>70837</td>\n",
              "      <td>17728.90</td>\n",
              "      <td>4</td>\n",
              "      <td>6965.92</td>\n",
              "      <td>13</td>\n",
              "      <td>0</td>\n",
              "      <td>0</td>\n",
              "    </tr>\n",
              "  </tbody>\n",
              "</table>\n",
              "</div>"
            ],
            "text/plain": [
              "    Gender  Age  State  City  Bank_Branch  Account_Type  Transaction_Date  \\\n",
              "0        1   60     15   127          127             2                22   \n",
              "1        0   51     18   100          100             0                10   \n",
              "2        1   20      4    13           13             2                24   \n",
              "3        0   57     28    22           22             0                18   \n",
              "4        0   43     25     7            7             2                29   \n",
              "5        1   54     10     2            2             1                24   \n",
              "6        0   61      8   102          102             0                 3   \n",
              "7        1   32      0   109          109             0                15   \n",
              "8        1   52     17    15           15             0                24   \n",
              "9        0   32      6    55           55             0                 1   \n",
              "10       1   18     10   135          135             2                24   \n",
              "11       1   59     25    21           21             0                13   \n",
              "12       1   66     21    20           20             2                26   \n",
              "13       0   47      6    74           74             2                28   \n",
              "14       1   37     33    73           73             2                 8   \n",
              "15       0   53      4    39           39             0                21   \n",
              "16       0   38     27    60           60             1                 7   \n",
              "17       1   56      7   123          123             0                23   \n",
              "18       0   38     17    15           15             2                 1   \n",
              "19       0   38     31    65           65             0                12   \n",
              "\n",
              "    Transaction_Time  Transaction_Amount  Transaction_Type  Account_Balance  \\\n",
              "0              52151            32415.45                 3         74557.27   \n",
              "1              55958            43622.60                 0         74622.66   \n",
              "2              10257            63062.56                 0         66817.99   \n",
              "3              40370            14000.72                 2         58177.08   \n",
              "4              60052            18335.16                 3         16108.56   \n",
              "5              22178             9711.15                 3         61258.85   \n",
              "6               2909            94677.01                 3         36313.61   \n",
              "7              13217            67704.28                 2         16948.73   \n",
              "8              35134            72953.45                 4         18138.71   \n",
              "9              14994             5689.02                 1         65801.35   \n",
              "10             28796            45491.61                 1         25427.07   \n",
              "11             63979            34680.87                 1         38070.74   \n",
              "12             71466            46843.65                 0         38362.08   \n",
              "13             39439            39976.03                 3         49403.41   \n",
              "14             47361            10258.06                 3         73121.31   \n",
              "15             31938            92969.97                 4         80388.02   \n",
              "16             44923               47.39                 4         52977.93   \n",
              "17             41157            85269.30                 2         74322.85   \n",
              "18             41216            89594.61                 0         61702.79   \n",
              "19             70837            17728.90                 4          6965.92   \n",
              "\n",
              "    Transaction_Device  Is_Fraud  Transaction_Currency  \n",
              "0                   17         0                     0  \n",
              "1                    9         0                     0  \n",
              "2                    0         0                     0  \n",
              "3                    8         0                     0  \n",
              "4                   16         0                     0  \n",
              "5                    7         0                     0  \n",
              "6                   11         0                     0  \n",
              "7                    5         0                     0  \n",
              "8                    0         0                     0  \n",
              "9                    2         0                     0  \n",
              "10                   6         0                     0  \n",
              "11                   2         0                     0  \n",
              "12                   6         0                     0  \n",
              "13                  13         0                     0  \n",
              "14                  11         0                     0  \n",
              "15                   1         0                     0  \n",
              "16                   0         0                     0  \n",
              "17                   4         1                     0  \n",
              "18                   9         0                     0  \n",
              "19                  13         0                     0  "
            ]
          },
          "execution_count": 67,
          "metadata": {},
          "output_type": "execute_result"
        }
      ],
      "source": [
        "df.head(20)"
      ]
    },
    {
      "cell_type": "code",
      "execution_count": 30,
      "metadata": {
        "colab": {
          "base_uri": "https://localhost:8080/",
          "height": 837
        },
        "id": "LEe8SqZ1nuXT",
        "outputId": "d7d518c0-4a5c-4be3-aef8-66fd1c67c92e"
      },
      "outputs": [
        {
          "data": {
            "text/plain": [
              "Customer_ID                0\n",
              "Customer_Name              0\n",
              "Gender                     0\n",
              "Age                        0\n",
              "State                      0\n",
              "City                       0\n",
              "Bank_Branch                0\n",
              "Account_Type               0\n",
              "Transaction_ID             0\n",
              "Transaction_Date           0\n",
              "Transaction_Time           0\n",
              "Transaction_Amount         0\n",
              "Merchant_ID                0\n",
              "Transaction_Type           0\n",
              "Merchant_Category          0\n",
              "Account_Balance            0\n",
              "Transaction_Device         0\n",
              "Transaction_Location       0\n",
              "Device_Type                0\n",
              "Is_Fraud                   0\n",
              "Transaction_Currency       0\n",
              "Customer_Contact           0\n",
              "Transaction_Description    0\n",
              "Customer_Email             0\n",
              "dtype: int64"
            ]
          },
          "execution_count": 30,
          "metadata": {},
          "output_type": "execute_result"
        }
      ],
      "source": [
        "df.isnull().sum()"
      ]
    },
    {
      "cell_type": "code",
      "execution_count": 31,
      "metadata": {
        "id": "TbHqHuWxq3qX"
      },
      "outputs": [],
      "source": [
        "# df_cleaned = df.drop(columns=  ['Customer_ID',\n",
        "#     'Customer_Name',\n",
        "#     'Transaction_ID',\n",
        "#     'Customer_Contact',\n",
        "#     'Customer_Email',\n",
        "#     'Merchant_ID',\n",
        "#     'Transaction_Description', 'Device_Type', 'Merchant_Category', 'Transaction_Location'], inplace=True)\n",
        "\n",
        "# No need to drop columns, just assign df_cleaned\n",
        "df.drop(columns=['Customer_ID',\n",
        "    'Customer_Name',\n",
        "    'Transaction_ID',\n",
        "    'Customer_Contact',\n",
        "    'Customer_Email',\n",
        "    'Merchant_ID',\n",
        "    'Transaction_Description', \n",
        "    'Device_Type', \n",
        "    'Merchant_Category', \n",
        "    'Transaction_Location'], inplace=True)\n",
        "df_cleaned = df"
      ]
    },
    {
      "cell_type": "code",
      "execution_count": 32,
      "metadata": {},
      "outputs": [
        {
          "data": {
            "text/plain": [
              "(200000, 14)"
            ]
          },
          "execution_count": 32,
          "metadata": {},
          "output_type": "execute_result"
        }
      ],
      "source": [
        "df.shape"
      ]
    },
    {
      "cell_type": "code",
      "execution_count": 68,
      "metadata": {
        "colab": {
          "base_uri": "https://localhost:8080/"
        },
        "id": "l5IrriIerdpo",
        "outputId": "53570a7e-3a78-4125-f91a-024fb93d53f9"
      },
      "outputs": [
        {
          "name": "stdout",
          "output_type": "stream",
          "text": [
            "   Gender  Age  State  City  Bank_Branch  Account_Type  Transaction_Date  \\\n",
            "0       1   60     15   127          127             2                22   \n",
            "1       0   51     18   100          100             0                10   \n",
            "2       1   20      4    13           13             2                24   \n",
            "3       0   57     28    22           22             0                18   \n",
            "4       0   43     25     7            7             2                29   \n",
            "\n",
            "   Transaction_Time  Transaction_Amount  Transaction_Type  Account_Balance  \\\n",
            "0             52151            32415.45                 3         74557.27   \n",
            "1             55958            43622.60                 0         74622.66   \n",
            "2             10257            63062.56                 0         66817.99   \n",
            "3             40370            14000.72                 2         58177.08   \n",
            "4             60052            18335.16                 3         16108.56   \n",
            "\n",
            "   Transaction_Device  Is_Fraud  Transaction_Currency  \n",
            "0                  17         0                     0  \n",
            "1                   9         0                     0  \n",
            "2                   0         0                     0  \n",
            "3                   8         0                     0  \n",
            "4                  16         0                     0  \n"
          ]
        }
      ],
      "source": [
        "print(df_cleaned.head())"
      ]
    },
    {
      "cell_type": "code",
      "execution_count": 34,
      "metadata": {
        "colab": {
          "base_uri": "https://localhost:8080/"
        },
        "id": "Hq0OcSxbsCNp",
        "outputId": "e09ba483-c996-4638-8ff8-2b5c1faee07e"
      },
      "outputs": [
        {
          "data": {
            "text/plain": [
              "(200000, 14)"
            ]
          },
          "execution_count": 34,
          "metadata": {},
          "output_type": "execute_result"
        }
      ],
      "source": [
        "df_cleaned.shape"
      ]
    },
    {
      "cell_type": "code",
      "execution_count": 35,
      "metadata": {
        "id": "z23DGiQDsHNR"
      },
      "outputs": [],
      "source": [
        "# # Feature Engineering based on domain knowledge\n",
        "# print(\"🔧 Creating new features...\")\n",
        "\n",
        "# # 1. Time-based features\n",
        "# print(\"\\nProcessing time-based features...\")\n",
        "# df_cleaned['Transaction_Date'] = pd.to_datetime(df['Transaction_Date'], format='mixed', dayfirst=True)\n",
        "# df_cleaned['Transaction_Time'] = pd.to_datetime(df['Transaction_Time'], format='%H:%M:%S').dt.time\n",
        "\n",
        "# # Extract time components\n",
        "# df_cleaned['Transaction_Hour'] = pd.to_datetime(df['Transaction_Time'], format='%H:%M:%S').dt.hour\n",
        "# df_cleaned['Transaction_DayOfWeek'] = df_cleaned['Transaction_Date'].dt.dayofweek\n",
        "# df_cleaned['Transaction_Day'] = df_cleaned['Transaction_Date'].dt.day\n",
        "# df_cleaned['Transaction_Month'] = df_cleaned['Transaction_Date'].dt.month\n",
        "\n",
        "# # Create time-based risk indicators\n",
        "# df_cleaned['Is_Weekend'] = df_cleaned['Transaction_DayOfWeek'].isin([5, 6]).astype(int)\n",
        "# df_cleaned['Is_Night'] = ((df_cleaned['Transaction_Hour'] >= 22) | \n",
        "#                          (df_cleaned['Transaction_Hour'] <= 5)).astype(int)\n",
        "# df_cleaned['Is_Evening'] = ((df_cleaned['Transaction_Hour'] >= 18) & \n",
        "#                            (df_cleaned['Transaction_Hour'] <= 21)).astype(int)\n",
        "\n",
        "# # 2. Amount-based features\n",
        "# print(\"\\nCreating amount-based features...\")\n",
        "# df_cleaned['Amount_to_Balance_Ratio'] = df_cleaned['Transaction_Amount'] / (df_cleaned['Account_Balance'] + 1)\n",
        "# df_cleaned['Is_High_Amount'] = (df_cleaned['Transaction_Amount'] > \n",
        "#                                df_cleaned['Transaction_Amount'].quantile(0.95)).astype(int)\n",
        "\n",
        "\n",
        "# # Scale numerical features\n",
        "# print(\"\\nScaling numerical features...\")\n",
        "# scaler = StandardScaler()\n",
        "# num_cols = ['Age', 'Transaction_Amount', 'Account_Balance',\n",
        "#             'Transaction_DayOfWeek', 'Transaction_Day',\n",
        "#             'Transaction_Month', 'Transaction_Hour',\n",
        "#             'Amount_to_Balance_Ratio']\n",
        "# df_cleaned[num_cols] = scaler.fit_transform(df_cleaned[num_cols])\n",
        "\n",
        "# # Save the scaler\n",
        "# joblib.dump(scaler, 'scaler.pkl')\n",
        "# print(\"\\n✅ Feature engineering completed and scaler saved\")\n",
        "\n"
      ]
    },
    {
      "cell_type": "markdown",
      "metadata": {},
      "source": [
        "# Feature Engineering and Data Preprocessing\n",
        "\n",
        "Let's create more meaningful features for fraud detection:\n",
        "1. Time-based features\n",
        "2. Transaction amount patterns\n",
        "3. Customer behavior patterns"
      ]
    },
    {
      "cell_type": "code",
      "execution_count": 36,
      "metadata": {
        "colab": {
          "base_uri": "https://localhost:8080/"
        },
        "id": "tdGWuEtatU08",
        "outputId": "2ec6d5a7-07ef-432c-dec1-84fea2e3e03c"
      },
      "outputs": [
        {
          "data": {
            "text/plain": [
              "(200000, 14)"
            ]
          },
          "execution_count": 36,
          "metadata": {},
          "output_type": "execute_result"
        }
      ],
      "source": [
        "df_cleaned.shape"
      ]
    },
    {
      "cell_type": "code",
      "execution_count": 37,
      "metadata": {
        "id": "FthX1fCwtdkl"
      },
      "outputs": [],
      "source": [
        "# Encode categorical columns\n",
        "categorical_cols = df.select_dtypes(include='object').columns.tolist()\n",
        "label_encoders = {}\n",
        "for col in categorical_cols:\n",
        "    le = LabelEncoder()\n",
        "    df[col] = le.fit_transform(df[col])\n",
        "    label_encoders[col] = le"
      ]
    },
    {
      "cell_type": "code",
      "execution_count": 38,
      "metadata": {},
      "outputs": [
        {
          "data": {
            "text/plain": [
              "(200000, 14)"
            ]
          },
          "execution_count": 38,
          "metadata": {},
          "output_type": "execute_result"
        }
      ],
      "source": [
        "df_cleaned.shape"
      ]
    },
    {
      "cell_type": "code",
      "execution_count": 39,
      "metadata": {
        "id": "jpiE0NAvuBVo"
      },
      "outputs": [],
      "source": [
        "# Separate features and target\n",
        "# Drop Transaction_Date as it's not needed for SMOTE\n",
        "X = df_cleaned.drop(columns=['Is_Fraud'])\n",
        "y = df['Is_Fraud']"
      ]
    },
    {
      "cell_type": "code",
      "execution_count": 40,
      "metadata": {},
      "outputs": [
        {
          "data": {
            "text/plain": [
              "(200000, 13)"
            ]
          },
          "execution_count": 40,
          "metadata": {},
          "output_type": "execute_result"
        }
      ],
      "source": [
        "X.shape"
      ]
    },
    {
      "cell_type": "code",
      "execution_count": 41,
      "metadata": {
        "id": "31BmLUqBuI1G"
      },
      "outputs": [],
      "source": [
        "# Split and oversample\n",
        "X_train, X_test, y_train, y_test = train_test_split(X, y, stratify=y, test_size=0.2, random_state=42)\n"
      ]
    },
    {
      "cell_type": "code",
      "execution_count": 42,
      "metadata": {
        "id": "Fpgmi8xKuNls"
      },
      "outputs": [],
      "source": [
        "# Use SMOTE for class imbalance\n",
        "smote = SMOTE(random_state=42)\n",
        "X_train_resampled, y_train_resampled = smote.fit_resample(X_train, y_train)\n"
      ]
    },
    {
      "cell_type": "code",
      "execution_count": 43,
      "metadata": {
        "colab": {
          "base_uri": "https://localhost:8080/"
        },
        "id": "ri8Q38EWujbN",
        "outputId": "cabad891-0bc3-4c68-9be7-e2f6ed471d81"
      },
      "outputs": [
        {
          "name": "stdout",
          "output_type": "stream",
          "text": [
            "X_train shape: (303860, 13)\n",
            "y_train class distribution:\n",
            " Is_Fraud\n",
            "0    151930\n",
            "1    151930\n",
            "Name: count, dtype: int64\n"
          ]
        }
      ],
      "source": [
        "# 10. Preview the result\n",
        "print(\"X_train shape:\", X_train_resampled.shape)\n",
        "print(\"y_train class distribution:\\n\", pd.Series(y_train_resampled).value_counts())"
      ]
    },
    {
      "cell_type": "markdown",
      "metadata": {
        "id": "YlfAAXhVxbN5"
      },
      "source": [
        "#**Model traning**\n",
        "## Step-by-step"
      ]
    },
    {
      "cell_type": "code",
      "execution_count": 44,
      "metadata": {
        "id": "VylZvf0FvFYk"
      },
      "outputs": [],
      "source": [
        "# 1. Import necessary libraries\n",
        "from sklearn.ensemble import RandomForestClassifier\n",
        "from sklearn.metrics import classification_report, confusion_matrix, roc_auc_score, RocCurveDisplay\n",
        "import matplotlib.pyplot as plt\n",
        "import seaborn as sns"
      ]
    },
    {
      "cell_type": "code",
      "execution_count": 45,
      "metadata": {
        "colab": {
          "base_uri": "https://localhost:8080/",
          "height": 80
        },
        "id": "T7iq2e3uxxIg",
        "outputId": "317a0128-0abe-4106-bf3f-4dd78fb4ec81"
      },
      "outputs": [
        {
          "name": "stdout",
          "output_type": "stream",
          "text": [
            "📊 Cross-validation ROC AUC scores: [0.82889118 0.82396108 0.82586208 0.82749777 0.8260799 ]\n",
            "📈 Mean ROC AUC: 0.8265 (+/- 0.0033)\n",
            "\n",
            "🔍 Top 10 Most Important Features:\n",
            "               feature  importance\n",
            "5         Account_Type    0.202078\n",
            "9     Transaction_Type    0.170662\n",
            "0               Gender    0.158262\n",
            "11  Transaction_Device    0.113256\n",
            "2                State    0.080152\n",
            "4          Bank_Branch    0.065069\n",
            "6     Transaction_Date    0.064913\n",
            "3                 City    0.061552\n",
            "1                  Age    0.055436\n",
            "10     Account_Balance    0.009541\n"
          ]
        }
      ],
      "source": [
        "# Train Random Forest with Cross-validation\n",
        "rf_model = RandomForestClassifier(\n",
        "    n_estimators=200,  # More trees for better performance\n",
        "    max_depth=10,      # Control model complexity\n",
        "    min_samples_split=5,\n",
        "    min_samples_leaf=2,\n",
        "    random_state=42,\n",
        "    class_weight='balanced',  # Handle class imbalance\n",
        "    n_jobs=-1  # Use all CPU cores\n",
        ")\n",
        "\n",
        "# Perform cross-validation\n",
        "cv = StratifiedKFold(n_splits=5, shuffle=True, random_state=42)\n",
        "cv_scores = cross_val_score(rf_model, X_train_resampled, y_train_resampled, cv=cv, scoring='roc_auc')\n",
        "\n",
        "print(\"📊 Cross-validation ROC AUC scores:\", cv_scores)\n",
        "print(f\"📈 Mean ROC AUC: {cv_scores.mean():.4f} (+/- {cv_scores.std() * 2:.4f})\")\n",
        "\n",
        "# Train the final model\n",
        "rf_model.fit(X_train_resampled, y_train_resampled)\n",
        "\n",
        "# Get feature importance\n",
        "feature_importance = pd.DataFrame({\n",
        "    'feature': X_train_resampled.columns,\n",
        "    'importance': rf_model.feature_importances_\n",
        "}).sort_values('importance', ascending=False)\n",
        "\n",
        "print(\"\\n🔍 Top 10 Most Important Features:\")\n",
        "print(feature_importance.head(10))"
      ]
    },
    {
      "cell_type": "code",
      "execution_count": 46,
      "metadata": {},
      "outputs": [
        {
          "data": {
            "image/png": "[encoded data removed]",
            "text/plain": [
              "<Figure size 1200x600 with 1 Axes>"
            ]
          },
          "metadata": {},
          "output_type": "display_data"
        },
        {
          "name": "stdout",
          "output_type": "stream",
          "text": [
            "\n",
            "🔍 Feature Importance (Top 15):\n",
            "                 feature  importance_percent\n",
            "5           Account_Type              20.21%\n",
            "9       Transaction_Type              17.07%\n",
            "0                 Gender              15.83%\n",
            "11    Transaction_Device              11.33%\n",
            "2                  State               8.02%\n",
            "4            Bank_Branch               6.51%\n",
            "6       Transaction_Date               6.49%\n",
            "3                   City               6.16%\n",
            "1                    Age               5.54%\n",
            "10       Account_Balance               0.95%\n",
            "8     Transaction_Amount               0.95%\n",
            "7       Transaction_Time               0.95%\n",
            "12  Transaction_Currency               0.00%\n"
          ]
        }
      ],
      "source": [
        "# Visualize Feature Importance\n",
        "plt.figure(figsize=(12, 6))\n",
        "plt.bar(feature_importance['feature'][:15], feature_importance['importance'][:15])\n",
        "plt.xticks(rotation=45, ha='right')\n",
        "plt.title('Top 15 Most Important Features for Fraud Detection')\n",
        "plt.xlabel('Features')\n",
        "plt.ylabel('Importance Score')\n",
        "plt.tight_layout()\n",
        "plt.show()\n",
        "\n",
        "# Print feature importance with percentages\n",
        "print(\"\\n🔍 Feature Importance (Top 15):\")\n",
        "top_features = feature_importance.head(15)\n",
        "top_features['importance_percent'] = top_features['importance'] / top_features['importance'].sum() * 100\n",
        "print(top_features[['feature', 'importance_percent']].to_string(float_format=lambda x: f\"{x:.2f}%\"))"
      ]
    },
    {
      "cell_type": "code",
      "execution_count": 47,
      "metadata": {
        "id": "uhon__94yBwn"
      },
      "outputs": [],
      "source": [
        "# 3. Predict on test set\n",
        "y_pred = rf_model.predict(X_test)\n",
        "y_proba = rf_model.predict_proba(X_test)[:, 1]\n"
      ]
    },
    {
      "cell_type": "markdown",
      "metadata": {
        "id": "xhnEpCS8zqrr"
      },
      "source": [
        "# **Precision & Recall** :important for fraud detection\n",
        "# **Confusion Matrix** :TP/FP/FN/TN"
      ]
    },
    {
      "cell_type": "code",
      "execution_count": 48,
      "metadata": {
        "colab": {
          "base_uri": "https://localhost:8080/",
          "height": 698
        },
        "id": "aEry9obLyAvv",
        "outputId": "a894aec6-9b5b-4bf3-bb07-f78ec62f1f7c"
      },
      "outputs": [
        {
          "name": "stdout",
          "output_type": "stream",
          "text": [
            "🔍 Classification Report:\n",
            "\n",
            "              precision    recall  f1-score   support\n",
            "\n",
            "           0       0.95      0.70      0.81     37982\n",
            "           1       0.05      0.32      0.09      2018\n",
            "\n",
            "    accuracy                           0.68     40000\n",
            "   macro avg       0.50      0.51      0.45     40000\n",
            "weighted avg       0.91      0.68      0.77     40000\n",
            "\n",
            "\n",
            "📊 Confusion Matrix:\n"
          ]
        },
        {
          "data": {
            "image/png": "[encoded data removed]",
            "text/plain": [
              "<Figure size 640x480 with 2 Axes>"
            ]
          },
          "metadata": {},
          "output_type": "display_data"
        }
      ],
      "source": [
        "# 4. Evaluate performance\n",
        "print(\"🔍 Classification Report:\\n\")\n",
        "print(classification_report(y_test, y_pred))\n",
        "\n",
        "print(\"\\n📊 Confusion Matrix:\")\n",
        "cm = confusion_matrix(y_test, y_pred)\n",
        "sns.heatmap(cm, annot=True, fmt='d', cmap='Blues', xticklabels=['Not Fraud', 'Fraud'], yticklabels=['Not Fraud', 'Fraud'])\n",
        "plt.xlabel(\"Predicted\")\n",
        "plt.ylabel(\"Actual\")\n",
        "plt.title(\"Confusion Matrix\")\n",
        "plt.show()"
      ]
    },
    {
      "cell_type": "markdown",
      "metadata": {
        "id": "rB_Z1dutzcPu"
      },
      "source": [
        "# **ROC AUC Score** :how well the model separates fraud vs. non-fraud."
      ]
    },
    {
      "cell_type": "code",
      "execution_count": 49,
      "metadata": {
        "colab": {
          "base_uri": "https://localhost:8080/"
        },
        "id": "rVmL0nLUxyT2",
        "outputId": "bb7a757a-9c4d-4fc3-af6a-d947b29a08c4"
      },
      "outputs": [
        {
          "name": "stdout",
          "output_type": "stream",
          "text": [
            "🎯 ROC AUC Score: 0.5109\n"
          ]
        }
      ],
      "source": [
        "# 5. ROC AUC Score\n",
        "roc_auc = roc_auc_score(y_test, y_proba)\n",
        "print(f\"🎯 ROC AUC Score: {roc_auc:.4f}\")"
      ]
    },
    {
      "cell_type": "code",
      "execution_count": 50,
      "metadata": {
        "colab": {
          "base_uri": "https://localhost:8080/",
          "height": 472
        },
        "id": "e7R-gUcpxzGi",
        "outputId": "b26ac1e8-3860-4e39-a086-53d3577bb838"
      },
      "outputs": [
        {
          "data": {
            "image/png": "[encoded data removed]",
            "text/plain": [
              "<Figure size 640x480 with 1 Axes>"
            ]
          },
          "metadata": {},
          "output_type": "display_data"
        }
      ],
      "source": [
        "\n",
        "# 6. Plot ROC Curve\n",
        "RocCurveDisplay.from_estimator(rf_model, X_test, y_test)\n",
        "plt.title(\"ROC Curve - Random Forest\")\n",
        "plt.show()"
      ]
    },
    {
      "cell_type": "code",
      "execution_count": 51,
      "metadata": {
        "colab": {
          "base_uri": "https://localhost:8080/"
        },
        "id": "6106851a",
        "outputId": "f46e6fa2-d1a5-4fb6-bc7b-dfdcab02686d"
      },
      "outputs": [
        {
          "name": "stdout",
          "output_type": "stream",
          "text": [
            "[39040, 55546, 72628, 45845, 3215, 58254, 15988, 63123, 17371, 27292]\n"
          ]
        }
      ],
      "source": [
        "df_cleaned['Transaction_Time'] = df['Transaction_Time']\n",
        "print(df_cleaned['Transaction_Time'].sample(10).tolist())"
      ]
    },
    {
      "cell_type": "code",
      "execution_count": 52,
      "metadata": {
        "id": "TtI8vDUcJnEM"
      },
      "outputs": [],
      "source": [
        "import joblib"
      ]
    },
    {
      "cell_type": "code",
      "execution_count": 70,
      "metadata": {
        "colab": {
          "base_uri": "https://localhost:8080/"
        },
        "id": "e327a460",
        "outputId": "18f786c6-ba7f-4bf5-bf85-50bbaa0b3c2d"
      },
      "outputs": [
        {
          "name": "stdout",
          "output_type": "stream",
          "text": [
            "🔄 Saving model components...\n",
            "✅ Random Forest model saved as model.pkl\n",
            "✅ Label encoders saved as encoders.pkl\n",
            "\n",
            "📝 Model Summary:\n",
            "Model Type: RandomForestClassifier\n",
            "Number of features: 13\n",
            "Encoded categories available for: ['Gender', 'State', 'City', 'Bank_Branch', 'Account_Type', 'Transaction_Date', 'Transaction_Time', 'Transaction_Type', 'Transaction_Device', 'Transaction_Currency']\n",
            "\n",
            "⚠️ Important: Make sure these files are in the same directory as your Flask application!\n",
            "🔄 All components saved successfully!\n"
          ]
        }
      ],
      "source": [
        "# Save all components\n",
        "print(\"🔄 Saving model components...\")\n",
        "\n",
        "# Save the model\n",
        "joblib.dump(rf_model, 'model.pkl')\n",
        "print(\"✅ Random Forest model saved as model.pkl\")\n",
        "\n",
        "# Save the encoders dictionary\n",
        "joblib.dump(label_encoders, 'encoders.pkl')\n",
        "print(\"✅ Label encoders saved as encoders.pkl\")\n",
        "\n",
        "# Note: scaler was already saved earlier\n",
        "\n",
        "print(\"\\n📝 Model Summary:\")\n",
        "print(f\"Model Type: {type(rf_model).__name__}\")\n",
        "print(f\"Number of features: {len(feature_importance)}\")\n",
        "print(f\"Encoded categories available for: {list(label_encoders.keys())}\")\n",
        "print(\"\\n⚠️ Important: Make sure these files are in the same directory as your Flask application!\")\n",
        "print(\"🔄 All components saved successfully!\")"
      ]
    },
    {
      "cell_type": "code",
      "execution_count": 56,
      "metadata": {},
      "outputs": [
        {
          "name": "stdout",
          "output_type": "stream",
          "text": [
            "Prediction: Not Fraud\n",
            "Fraud Probability: 28.26%\n"
          ]
        },
        {
          "data": {
            "text/plain": [
              "{'prediction': 'Not Fraud', 'probability': np.float64(0.2825697624879926)}"
            ]
          },
          "execution_count": 56,
          "metadata": {},
          "output_type": "execute_result"
        }
      ],
      "source": [
        "# Test function for the trained fraud detection model\n",
        "def test_fraud_model(sample_transaction):\n",
        "    import joblib\n",
        "    import pandas as pd\n",
        "\n",
        "    # Load model and encoders\n",
        "    model = joblib.load('model.pkl')\n",
        "    encoders = joblib.load('encoders.pkl')\n",
        "\n",
        "    # Use the feature names from training (X)\n",
        "    feature_names = X.columns.tolist()\n",
        "\n",
        "    # Ensure sample_transaction is a DataFrame with one row\n",
        "    if isinstance(sample_transaction, dict):\n",
        "        sample_transaction = pd.DataFrame([sample_transaction])\n",
        "    elif isinstance(sample_transaction, pd.Series):\n",
        "        sample_transaction = sample_transaction.to_frame().T\n",
        "\n",
        "    # Fill missing columns with default values from X\n",
        "    transaction = {}\n",
        "    for col in feature_names:\n",
        "        if col in sample_transaction.columns:\n",
        "            transaction[col] = sample_transaction[col].iloc[0]\n",
        "        else:\n",
        "            # Use median for numeric, mode for categorical\n",
        "            if X[col].dtype == 'object':\n",
        "                transaction[col] = X[col].mode()[0]\n",
        "            else:\n",
        "                transaction[col] = X[col].median()\n",
        "\n",
        "    # Create DataFrame\n",
        "    transaction_df = pd.DataFrame([transaction])\n",
        "\n",
        "    # Encode categorical columns\n",
        "    for col in encoders:\n",
        "        if col in transaction_df.columns:\n",
        "            try:\n",
        "                transaction_df[col] = encoders[col].transform(transaction_df[col].astype(str))\n",
        "            except ValueError:\n",
        "                transaction_df[col] = encoders[col].transform([encoders[col].classes_[0]])\n",
        "\n",
        "    # Make prediction\n",
        "    prediction = model.predict(transaction_df)[0]\n",
        "    probability = model.predict_proba(transaction_df)[0][1]\n",
        "\n",
        "    print(\"Prediction:\", \"Fraud\" if prediction == 1 else \"Not Fraud\")\n",
        "    print(\"Fraud Probability: {:.2%}\".format(probability))\n",
        "\n",
        "    return {\"prediction\": \"Fraud\" if prediction == 1 else \"Not Fraud\",\n",
        "            \"probability\": probability}\n",
        "\n",
        "# Example usage:\n",
        "sample_transaction = pd.DataFrame({\n",
        "    'Gender': ['Male'],\n",
        "    'Age': [35],\n",
        "    'State': ['Maharashtra'],\n",
        "    'City': ['Mumbai'],\n",
        "    'Bank_Branch': ['Mumbai Branch'],\n",
        "    'Account_Type': ['Savings'],\n",
        "    'Transaction_Amount': [50000],\n",
        "    'Transaction_Type': ['UPI'],\n",
        "    'Account_Balance': [100000],\n",
        "    'Transaction_Currency': ['INR']\n",
        "})\n",
        "\n",
        "# Test the model\n",
        "test_fraud_model(sample_transaction)"
      ]
    },
    {
      "cell_type": "code",
      "execution_count": 59,
      "metadata": {},
      "outputs": [
        {
          "name": "stdout",
          "output_type": "stream",
          "text": [
            "🗺️ Geographical Analysis of Fraud\n",
            "\n",
            "Fraud Percentage by State:\n",
            "State\n",
            "28    5.62\n",
            "16    5.58\n",
            "27    5.39\n",
            "32    5.33\n",
            "33    5.32\n",
            "17    5.31\n",
            "21    5.30\n",
            "29    5.29\n",
            "30    5.25\n",
            "14    5.25\n",
            "7     5.21\n",
            "24    5.18\n",
            "22    5.17\n",
            "13    5.10\n",
            "8     5.10\n",
            "18    5.08\n",
            "19    5.06\n",
            "20    5.03\n",
            "23    5.02\n",
            "3     4.99\n",
            "5     4.97\n",
            "12    4.94\n",
            "9     4.92\n",
            "6     4.92\n",
            "31    4.92\n",
            "2     4.87\n",
            "1     4.82\n",
            "0     4.75\n",
            "25    4.72\n",
            "10    4.71\n",
            "4     4.66\n",
            "26    4.62\n",
            "11    4.59\n",
            "15    4.53\n",
            "Name: 1, dtype: float64\n",
            "\n",
            "Top 10 Cities by Fraud Percentage:\n",
            "City\n",
            "45     6.72\n",
            "11     6.49\n",
            "60     6.48\n",
            "46     6.36\n",
            "102    6.35\n",
            "24     6.26\n",
            "42     6.24\n",
            "3      6.14\n",
            "131    6.10\n",
            "69     5.98\n",
            "Name: 1, dtype: float64\n"
          ]
        },
        {
          "data": {
            "image/png": "[encoded data removed]",
            "text/plain": [
              "<Figure size 1500x500 with 2 Axes>"
            ]
          },
          "metadata": {},
          "output_type": "display_data"
        },
        {
          "name": "stdout",
          "output_type": "stream",
          "text": [
            "\n",
            "🚨 Geographical Risk Insights:\n",
            "\n",
            "High-risk states (above average fraud rate):\n",
            "State\n",
            "7     5.21\n",
            "8     5.10\n",
            "13    5.10\n",
            "14    5.25\n",
            "16    5.58\n",
            "17    5.31\n",
            "18    5.08\n",
            "19    5.06\n",
            "21    5.30\n",
            "22    5.17\n",
            "24    5.18\n",
            "27    5.39\n",
            "28    5.62\n",
            "29    5.29\n",
            "30    5.25\n",
            "32    5.33\n",
            "33    5.32\n",
            "Name: 1, dtype: float64\n",
            "\n",
            "💰 Average Transaction Amount by Location Type:\n",
            "Is_Fraud\n",
            "0    49551.83\n",
            "1    49277.93\n",
            "Name: Transaction_Amount, dtype: float64\n"
          ]
        }
      ],
      "source": [
        "# Analyze geographical patterns in fraud\n",
        "print(\"🗺️ Geographical Analysis of Fraud\\n\")\n",
        "\n",
        "# State-wise analysis\n",
        "state_fraud = pd.crosstab(df['State'], df['Is_Fraud'], normalize='index') * 100\n",
        "print(\"Fraud Percentage by State:\")\n",
        "print(state_fraud.sort_values(by=1, ascending=False)[1].round(2))\n",
        "\n",
        "# City-wise analysis\n",
        "city_fraud = pd.crosstab(df['City'], df['Is_Fraud'], normalize='index') * 100\n",
        "print(\"\\nTop 10 Cities by Fraud Percentage:\")\n",
        "print(city_fraud.sort_values(by=1, ascending=False)[1].head(10).round(2))\n",
        "\n",
        "# Visualize geographical patterns\n",
        "plt.figure(figsize=(15, 5))\n",
        "\n",
        "# State-wise fraud visualization\n",
        "plt.subplot(1, 2, 1)\n",
        "state_fraud[1].sort_values(ascending=True).plot(kind='barh')\n",
        "plt.title('Fraud Percentage by State')\n",
        "plt.xlabel('Fraud %')\n",
        "\n",
        "# City-wise fraud visualization\n",
        "plt.subplot(1, 2, 2)\n",
        "city_fraud[1].sort_values(ascending=True).tail(10).plot(kind='barh')\n",
        "plt.title('Fraud Percentage in Top 10 Cities')\n",
        "plt.xlabel('Fraud %')\n",
        "\n",
        "plt.tight_layout()\n",
        "plt.show()\n",
        "\n",
        "# Print risk insights\n",
        "print(\"\\n🚨 Geographical Risk Insights:\")\n",
        "high_risk_states = state_fraud[state_fraud[1] > state_fraud[1].mean()]\n",
        "print(\"\\nHigh-risk states (above average fraud rate):\")\n",
        "print(high_risk_states[1].round(2))\n",
        "\n",
        "# Transaction amount patterns by location\n",
        "print(\"\\n💰 Average Transaction Amount by Location Type:\")\n",
        "location_amount = df.groupby('Is_Fraud')['Transaction_Amount'].mean()\n",
        "print(location_amount.round(2))"
      ]
    }
  ],
  "metadata": {
    "colab": {
      "provenance": []
    },
    "kernelspec": {
      "display_name": "Python 3",
      "name": "python3"
    },
    "language_info": {
      "codemirror_mode": {
        "name": "ipython",
        "version": 3
      },
      "file_extension": ".py",
      "mimetype": "text/x-python",
      "name": "python",
      "nbconvert_exporter": "python",
      "pygments_lexer": "ipython3",
      "version": "3.10.10"
    }
  },
  "nbformat": 4,
  "nbformat_minor": 0
}
